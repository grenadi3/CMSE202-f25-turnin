{
 "cells": [
  {
   "cell_type": "markdown",
   "id": "37abd0c1-f3bc-4c91-80b2-3b14f385ef97",
   "metadata": {},
   "source": [
    "# Homework 4\n",
    "# Perceptron, SVM, and PCA"
   ]
  },
  {
   "cell_type": "markdown",
   "id": "ed41a524-ade8-4277-bffc-7547379f9d22",
   "metadata": {},
   "source": [
    "# <p style=\"text-align: right;\"> &#9989; Eric Grenadier</p>\n",
    "# <p style=\"text-align: right;\"> &#9989; grenadi3</p>"
   ]
  },
  {
   "cell_type": "markdown",
   "id": "665e13b3-c564-4b25-9e3f-8bef7e3cd6e3",
   "metadata": {},
   "source": [
    "# Goal for this homework assignment\n",
    "We have worked some basics on perceptron, SVM, and PCA in the pre-class and in-class assignments. In this homework assignment, we will:\n",
    "\n",
    "* Continue to use git as the version control tool\n",
    "* Work on unfamiliar data\n",
    "* Use perceptron to classify data \n",
    "* Use SVM to classify data\n",
    "* Use principal component analysis to facilitate classification\n",
    "\n",
    "\n",
    "**This assignment is due by 11:59 pm on Friday, April 25th. Note that ONLY the copy on GITHUB will be graded.**  **There are 60 standard points possible in this assignment including points for Git commits/pushes. The distribution of points can be found in the section headers**."
   ]
  },
  {
   "cell_type": "markdown",
   "id": "199515ba-e709-40e2-a189-5da69a6f1699",
   "metadata": {},
   "source": [
    "---\n",
    "# Part 1: Git repository (6 points)\n",
    "\n",
    "You're going to add this assignment to the `cmse202-s25-turnin` repository you previously created. The history of progress on the assignment will be tracked via git commitments. \n",
    "\n",
    "**&#9989; Do the following**:\n",
    "\n",
    "1. Navigate to your `cmse202-s25-turnin` **local** repository and create a new directory called `hw-04`\n",
    "\n",
    "2. Move this notebook into that **new directory** in your repository. \n",
    "\n",
    "5. Double check to make sure your file is at the correct directory.\n",
    "\n",
    "6. Once you're certain that file and directory are correct, add this notebook to your repository, then make a commit and push it to GitHub. You may need to use `git push origin hw04` to push your file to GitHub.\n",
    "\n",
    "Finally, &#9989; **Do this**: Before you move on, put the command that your instructor should run to clone your repository in the markdown cell below. **Points for this part will be given for correctly setting up branch, etc., above, and for doing git commits/pushes mentioned throughout the assignment.**"
   ]
  },
  {
   "cell_type": "markdown",
   "id": "329e549e-214b-4858-930f-e2b7c9015580",
   "metadata": {},
   "source": [
    "<font size=6 color=\"#009600\">&#9998;</font> git clone https://github.com/grenadi3/CMSE202-f25-turnin.git"
   ]
  },
  {
   "cell_type": "markdown",
   "id": "45e93e6e-2297-490f-b1c8-a87bbd9d4814",
   "metadata": {},
   "source": [
    "**Important**: Double check you've added your Professor and your TA as collaborators to your \"turnin\" repository (you should have done this in the previous homework assignment).\n",
    "\n",
    "**Also important**: Make sure that the version of this notebook that you are working on is the same one that you just added to your repository! If you are working on a different copy of the notebook, **none of your changes will be tracked**!\n",
    "\n",
    "If everything went as intended, the file should now show up on your GitHub account in the \"`cmse202-s25-turnin`\" repository inside the `hw-04` directory that you just created.\n",
    "\n",
    "Periodically, **you'll be asked to commit your changes to the repository and push them to the remote GitHub location**. Of course, you can always commit your changes more often than that, if you wish.  It can be good to get into a habit of committing your changes any time you make a significant modification, or when you stop working on the problems for a bit."
   ]
  },
  {
   "cell_type": "markdown",
   "id": "40b2cd6e-5eac-4817-afad-c1d8ab86214b",
   "metadata": {},
   "source": [
    "---\n",
    "# Part 2: Deal with unfamiliar data (35 points)\n",
    "\n",
    "## Warm up with perceptron for binary classification\n",
    "## 2.1 Load up the dataset\n",
    "\n",
    "This data is obtained from Kaggle/diabetes. It contains multiple measured values and a label for whether the patient is diagnosed as diabetic. \n",
    "\n",
    "* Use commands to dowdload the dataset from `https://raw.githubusercontent.com/huichiayu/cmse202-s25-supllemental_data/refs/heads/main/HW04/diabetes_prediction_dataset.csv`\n",
    "* Use Pandas to load in the data and briefly examine it.\n",
    "* Succeed data load-up gets **2 pt**. "
   ]
  },
  {
   "cell_type": "code",
   "execution_count": 1,
   "id": "c8dde6c3-799e-480b-ac67-a8e0d2716b7a",
   "metadata": {},
   "outputs": [
    {
     "data": {
      "text/plain": [
       "Index(['gender', 'age', 'hypertension', 'heart_disease', 'smoking_history',\n",
       "       'bmi', 'HbA1c_level', 'blood_glucose_level', 'diabetes'],\n",
       "      dtype='object')"
      ]
     },
     "execution_count": 1,
     "metadata": {},
     "output_type": "execute_result"
    }
   ],
   "source": [
    "import pandas as pd\n",
    "\n",
    "df = pd.read_csv('diabetes_prediction_dataset.csv')\n",
    "\n",
    "df.columns"
   ]
  },
  {
   "cell_type": "markdown",
   "id": "2ac61eaf-8d5a-4889-8c9a-624aeefc511d",
   "metadata": {},
   "source": [
    "How many patients are in this dataset? What are features of the patients?"
   ]
  },
  {
   "cell_type": "markdown",
   "id": "bc156a61-260e-401d-a92d-d80a0016be0b",
   "metadata": {},
   "source": [
    "<font size=6 color=\"#009600\">&#9998;</font> 1000 patients, columns are ['gender', 'age', 'hypertension', 'heart_disease', 'smoking_history',\n",
    "       'bmi', 'HbA1c_level', 'blood_glucose_level', 'diabetes']"
   ]
  },
  {
   "cell_type": "markdown",
   "id": "82b0e656-57ad-4757-b1c5-fa51c9aef9f9",
   "metadata": {},
   "source": [
    "### Use your perceptron class built in Day18 and Day19 assignments to classify whether patients are diabetic.\n",
    "\n",
    "* You should see that there are some features that are non-numerics.\n",
    "* The first one is `gender`. Find the types of classes and convert them to numerics in your dataframe.\n",
    "* The second one is `smoking_history`, convert those string labels to numerics.\n",
    "* Note that since perceptron is a binary classifier, which only determines which side of the dividing line the data points reside, we should also convert the labels to `+1` and `-1`.\n",
    "* Completing data conversion gets **5 pt**."
   ]
  },
  {
   "cell_type": "code",
   "execution_count": 2,
   "id": "4af4a995-58a7-4478-9e3e-b805ab21779f",
   "metadata": {},
   "outputs": [
    {
     "data": {
      "text/plain": [
       "gender                   int64\n",
       "age                    float64\n",
       "hypertension             int64\n",
       "heart_disease            int64\n",
       "smoking_history        float64\n",
       "bmi                    float64\n",
       "HbA1c_level            float64\n",
       "blood_glucose_level      int64\n",
       "diabetes                 int64\n",
       "dtype: object"
      ]
     },
     "execution_count": 2,
     "metadata": {},
     "output_type": "execute_result"
    }
   ],
   "source": [
    "df['gender'] = (df['gender'] == 'male').astype(int)\n",
    "df['smoking_history'] = df['smoking_history'].map({'never': 0, 'current': 1, 'No Info': 2})\n",
    "df['diabetes'] = df['diabetes'].map({0: -1, 1: 1})\n",
    "\n",
    "df.dtypes"
   ]
  },
  {
   "cell_type": "markdown",
   "id": "88d2245b-3a9e-4b17-a5e3-b2d8365034db",
   "metadata": {},
   "source": [
    "### Now all feature varilables are numerics.\n",
    "\n",
    "### &#128721; STOP (1 Point)\n",
    "**Pause, save and commit your changes to your Git repository!**\n",
    "\n",
    "Take a moment to save your notebook, commit the changes to your Git repository with a meaningful commit message.\n",
    "\n",
    "\n",
    "\n",
    "---\n",
    "\n",
    "## 2.2 Binary perceptron classifier\n",
    "\n",
    "Copy your perceptron class to the cell below. \n",
    "\n",
    "* DO NOT use the one from statsmodel. We want to test the perceptron you built.\n",
    "* Note that your predict method should output `+1` or `-1` for positive or negative values, respectively.\n",
    "* A functional perceptron classifier gets **4 pt**."
   ]
  },
  {
   "cell_type": "code",
   "execution_count": 3,
   "id": "22f7672c-5fc3-4c4f-8d06-ec88508c81e9",
   "metadata": {},
   "outputs": [],
   "source": [
    "import numpy as np\n",
    "from sklearn.model_selection import train_test_split\n",
    "from sklearn.metrics import accuracy_score\n",
    "import matplotlib.pyplot as plt\n",
    "import random # Needed for shuffling in Perceptron\n",
    "\n",
    "# --- Paste the refined Perceptron Class Code Here ---\n",
    "# (Make sure the class definition from the previous answer is included)\n",
    "class Perceptron():\n",
    "    \"\"\"\n",
    "    A simple implementation of the Perceptron algorithm for binary classification.\n",
    "\n",
    "    Attributes:\n",
    "        iterations (int): The number of passes over the training dataset.\n",
    "        learning_rate (float): The step size for weight updates.\n",
    "        weights (np.ndarray): The learned weights (including the bias term at index 0).\n",
    "        data (np.ndarray): The training data stored internally (used only during fit).\n",
    "        errors_ (list): Stores the number of misclassifications per epoch during training.\n",
    "    \"\"\"\n",
    "    def __init__(self, iterations=100, learning_rate=0.01):\n",
    "        \"\"\"\n",
    "        Initializes the Perceptron classifier hyperparameters.\n",
    "\n",
    "        Args:\n",
    "            iterations (int): Maximum number of training iterations (epochs).\n",
    "            learning_rate (float): The learning rate (eta).\n",
    "        \"\"\"\n",
    "        # Initialize weights later in fit() once data dimension is known\n",
    "        self.weights = None\n",
    "        self.iterations = iterations\n",
    "        self.learning_rate = learning_rate\n",
    "        self.errors_ = [] # To store number of misclassifications per epoch\n",
    "\n",
    "    def _initialize_weights(self, num_features):\n",
    "         \"\"\"Initializes weights to zeros based on number of features.\"\"\"\n",
    "         self.weights = np.zeros(num_features + 1) # +1 for bias\n",
    "\n",
    "    def predict(self, feature_set):\n",
    "        if self.weights is None:\n",
    "            raise RuntimeError(\"Perceptron must be trained before prediction.\")\n",
    "\n",
    "        features = np.asarray(feature_set)\n",
    "        # Calculate activation: w0 + w1*x1 + w2*x2 + ...\n",
    "        activation = self.weights[0] + np.dot(features, self.weights[1:])\n",
    "        # Return +1 if activation >= 0, else -1 (step function)\n",
    "        return 1 if activation >= 0 else -1\n",
    "\n",
    "    def fit(self, X_train, y_train):\n",
    "        \"\"\"\n",
    "        Trains the Perceptron model on the provided training data.\n",
    "\n",
    "        Args:\n",
    "            X_train (np.ndarray): Training features (samples x features).\n",
    "            y_train (np.ndarray): Training labels (samples x 1).\n",
    "        \"\"\"\n",
    "        n_samples, n_features = X_train.shape\n",
    "\n",
    "        # Initialize weights based on training data dimensions\n",
    "        self._initialize_weights(n_features)\n",
    "\n",
    "        # Verify labels are -1 and 1\n",
    "        unique_labels = np.unique(y_train)\n",
    "        if not (len(unique_labels) == 2 and np.all(np.isin(unique_labels, [-1, 1]))):\n",
    "             raise ValueError(\"Training labels must be exactly -1 and 1.\")\n",
    "\n",
    "        # Combine features and labels for easier iteration during training\n",
    "        training_data = np.hstack((X_train, y_train.reshape(-1, 1)))\n",
    "\n",
    "        self.errors_ = [] # Reset errors history\n",
    "        for epoch in range(self.iterations):\n",
    "            errors_in_epoch = 0\n",
    "            # Shuffle data each epoch to avoid cycles\n",
    "            np.random.shuffle(training_data)\n",
    "\n",
    "            for sample in training_data:\n",
    "                features = sample[:-1]\n",
    "                target = sample[-1]\n",
    "                prediction = self.predict(features) # Use internal predict\n",
    "\n",
    "                # If prediction is wrong, update weights\n",
    "                if prediction != target:\n",
    "                    # Standard Perceptron update rule: w = w + learning_rate * target * x\n",
    "                    update = self.learning_rate * target\n",
    "                    self.weights[1:] += update * features # Update feature weights (w1, w2, ...)\n",
    "                    self.weights[0] += update             # Update bias weight (w0)\n",
    "                    errors_in_epoch += 1\n",
    "\n",
    "            self.errors_.append(errors_in_epoch)\n",
    "            # Optional: Stopping condition\n",
    "            # if errors_in_epoch == 0:\n",
    "            #     print(f\"Converged after {epoch+1} epochs.\")\n",
    "            #     break\n",
    "\n",
    "\n",
    "    def score(self, X_test, y_test):\n",
    "        \"\"\"Calculates accuracy on the test set.\"\"\"\n",
    "        y_pred = np.array([self.predict(xi) for xi in X_test])\n",
    "        return accuracy_score(y_test, y_pred)\n",
    "\n",
    "    def plot_decision_boundary(self, X, y):\n",
    "        \"\"\"\n",
    "        Plots the data points and the decision boundary learned by the Perceptron.\n",
    "        Assumes the data has exactly 2 features.\n",
    "\n",
    "        Args:\n",
    "            X (np.ndarray): Features (samples x features).\n",
    "            y (np.ndarray): Labels (samples x 1).\n",
    "        \"\"\"\n",
    "        if self.weights is None:\n",
    "             raise RuntimeError(\"Perceptron must be trained before plotting.\")\n",
    "        if X.shape[1] != 2:\n",
    "            print(\"Warning: Plotting decision boundary only implemented for 2 features.\")\n",
    "            return\n",
    "\n",
    "        w0, w1, w2 = self.weights  # Bias, weight_feature1, weight_feature2\n",
    "\n",
    "        plt.figure(figsize=(8, 6))\n",
    "        plt.scatter(X[y == 1][:, 0], X[y == 1][:, 1],\n",
    "                    c='blue', marker='o', label='Class 1', alpha=0.7, edgecolor='k')\n",
    "        plt.scatter(X[y == -1][:, 0], X[y == -1][:, 1],\n",
    "                    c='red', marker='s', label='Class -1', alpha=0.7, edgecolor='k')\n",
    "\n",
    "        x_min, x_max = X[:, 0].min() - 1, X[:, 0].max() + 1\n",
    "        y_min, y_max = X[:, 1].min() - 1, X[:, 1].max() + 1\n",
    "\n",
    "        if abs(w2) < 1e-5:\n",
    "            if abs(w1) < 1e-5:\n",
    "                 print(\"Warning: Both w1 and w2 are close to zero. Cannot plot boundary.\")\n",
    "            else:\n",
    "                boundary_x = -w0 / w1\n",
    "                if x_min <= boundary_x <= x_max:\n",
    "                    plt.axvline(x=boundary_x, color='k', linestyle='-', label='Decision Boundary')\n",
    "        else:\n",
    "            x_boundary = np.array([x_min, x_max])\n",
    "            y_boundary = (-w0 - w1 * x_boundary) / w2\n",
    "            plt.plot(x_boundary, y_boundary, 'k-', label='Decision Boundary')\n",
    "\n",
    "        plt.xlabel('Feature 1')\n",
    "        plt.ylabel('Feature 2')\n",
    "        plt.title('Perceptron Decision Boundary')\n",
    "        plt.xlim(x_min, x_max)\n",
    "        plt.ylim(y_min, y_max)\n",
    "        plt.legend()\n",
    "        plt.grid(True, alpha=0.3)\n",
    "        plt.show()\n",
    "\n"
   ]
  },
  {
   "cell_type": "markdown",
   "id": "c38cf279-13af-4402-94c4-2c418d3d97a5",
   "metadata": {},
   "source": [
    "* Split data to 70-30 train-test sets **1 pt**.\n",
    "* Train your perceptron.\n",
    "* Show the accuracy of your pereptron **2 pt**."
   ]
  },
  {
   "cell_type": "code",
   "execution_count": 4,
   "id": "7986537a-e054-4286-91a4-9ba639e3c53d",
   "metadata": {},
   "outputs": [],
   "source": [
    "from sklearn.model_selection import train_test_split\n",
    "X_df = df.drop(['diabetes'], axis=1)\n",
    "y_series = df['diabetes']\n",
    "\n",
    "X_np = X_df.values\n",
    "y_np = y_series.values\n",
    "\n",
    "\n",
    "\n",
    "X_train, X_test, y_train, y_test = train_test_split(\n",
    "    X_np, y_np, test_size=0.30, random_state=42 # Removed stratify=y as y is now float, stratification is tricky unless targets are integers/classes\n",
    ")\n"
   ]
  },
  {
   "cell_type": "markdown",
   "id": "22521abe-9552-41ec-8512-6995a7245ed7",
   "metadata": {},
   "source": [
    "* Use test set to evaulate the accuracy of your perceptron. What is your accuracy? (**2 pt**)"
   ]
  },
  {
   "cell_type": "code",
   "execution_count": 5,
   "id": "3f6dd4c5-7bc1-4e9b-83e4-0417543b52d3",
   "metadata": {},
   "outputs": [
    {
     "name": "stdout",
     "output_type": "stream",
     "text": [
      "\n",
      "The accuracy of the Perceptron on the test set is: 0.9151\n"
     ]
    }
   ],
   "source": [
    "# put your code here\n",
    "p = Perceptron()\n",
    "p.fit(X_train, y_train)\n",
    "y_pred = [p.predict(xi) for xi in X_test]\n",
    "accuracy = accuracy_score(y_test, y_pred)\n",
    "print(f\"\\nThe accuracy of the Perceptron on the test set is: {accuracy:.4f}\")\n"
   ]
  },
  {
   "cell_type": "markdown",
   "id": "bf59cd13-1358-48ad-a11c-2371277e0b55",
   "metadata": {},
   "source": [
    "* There may be some ways to increase the accruacy, such as increasing the number of train iterations or adjust learning rate. Give a try to train a perceptron you can best get. Record the values of parameters and the optimal accuracy. (**3 pt**)\n"
   ]
  },
  {
   "cell_type": "code",
   "execution_count": 6,
   "id": "3498a824-d111-451e-9119-6f85964bca45",
   "metadata": {},
   "outputs": [
    {
     "name": "stdout",
     "output_type": "stream",
     "text": [
      "\n",
      "The accuracy of the Perceptron on the test set is: 0.9151\n"
     ]
    }
   ],
   "source": [
    "# put your code here\n",
    "p = Perceptron(iterations=50, learning_rate=.005)\n",
    "p.fit(X_train, y_train)\n",
    "y_pred = [p.predict(xi) for xi in X_test]\n",
    "accuracy = accuracy_score(y_test, y_pred)\n",
    "print(f\"\\nThe accuracy of the Perceptron on the test set is: {accuracy:.4f}\")\n",
    "\n",
    "#no matter what i do the accuracy is always .9151"
   ]
  },
  {
   "cell_type": "markdown",
   "id": "41900123-9fa6-4dbb-81de-0b90edc3d9e5",
   "metadata": {},
   "source": [
    "### &#128721; STOP (1 Point)\n",
    "**Pause, save and commit your changes to your Git repository!**\n",
    "\n",
    "Take a moment to save your notebook, commit the changes to your Git repository with a meaningful commit message.\n",
    "\n",
    "---\n",
    "\n",
    "### 2.3 Next we shall test perceptron's capability of multiple-label classification.\n",
    "\n",
    "* Dowdload the dataset from `https://raw.githubusercontent.com/huichiayu/cmse202-s25-supllemental_data/refs/heads/main/HW04/Telecust1.csv`.\n",
    "* This is a customer category dataset (Kraggle/Customer Classification). Each cusmtoer has several feature variables.\n",
    "* There are five categories of customers, which are non-numerics. Thus, let's convert those string labels to numerics.\n",
    "* Successful data load-up gets **2 pt**."
   ]
  },
  {
   "cell_type": "code",
   "execution_count": 7,
   "id": "2f57127a-9d83-4408-a18d-8adfb800eb2f",
   "metadata": {},
   "outputs": [
    {
     "data": {
      "text/plain": [
       "region     int64\n",
       "tenure     int64\n",
       "age        int64\n",
       "income     int64\n",
       "marital    int64\n",
       "address    int64\n",
       "ed         int64\n",
       "employ     int64\n",
       "retire     int64\n",
       "gender     int64\n",
       "reside     int64\n",
       "custcat    int64\n",
       "dtype: object"
      ]
     },
     "execution_count": 7,
     "metadata": {},
     "output_type": "execute_result"
    }
   ],
   "source": [
    "df = pd.read_csv('Telecust1.csv')\n",
    "df.custcat = df.custcat.map({'A': 0,'B': 1,'C': 2,'D': 3})\n",
    "\n",
    "df.dtypes"
   ]
  },
  {
   "cell_type": "markdown",
   "id": "ffcab03b-57fb-4268-81dc-e72281bfceb1",
   "metadata": {},
   "source": [
    "---\n",
    "### 2.4 Multi-label perceptron classification\n",
    "\n",
    "* As we know, perceptron is a binary classifier. For multiple-label classification, we can use One-vs-Rest (OvR) Strategy.\n",
    "* In this case, let's train five individual perceptrons. \n",
    "* For each classifier, it treats the current class as \"positive\" and all others as \"negative.\"\n",
    "* When classifying a new sample, each classifier gives a \"score,\" and the class with the highest score is chosen.\n",
    "\n",
    "Copy your perceptron to the code cell below. We need to add a score method, which outputs dot of weights and features, as opposed to the previous binary predict method. The score method should output a signed floating score value, not `+1` or `-1`. This can be done by removing the binary segmenting, i.e., directly outputing the dot value.\n",
    "\n",
    "* Functioning score() method gets **2 pt**."
   ]
  },
  {
   "cell_type": "code",
   "execution_count": 8,
   "id": "f7996b89-84fb-4272-9c30-c5293a97455b",
   "metadata": {},
   "outputs": [],
   "source": [
    "import numpy as np\n",
    "from sklearn.model_selection import train_test_split\n",
    "from sklearn.metrics import accuracy_score\n",
    "import matplotlib.pyplot as plt\n",
    "import random # Needed for shuffling in Perceptron\n",
    "\n",
    "# --- Paste the refined Perceptron Class Code Here ---\n",
    "# (Make sure the class definition from the previous answer is included)\n",
    "class Perceptron():\n",
    "    \"\"\"\n",
    "    A simple implementation of the Perceptron algorithm for binary classification.\n",
    "\n",
    "    Attributes:\n",
    "        iterations (int): The number of passes over the training dataset.\n",
    "        learning_rate (float): The step size for weight updates.\n",
    "        weights (np.ndarray): The learned weights (including the bias term at index 0).\n",
    "        data (np.ndarray): The training data stored internally (used only during fit).\n",
    "        errors_ (list): Stores the number of misclassifications per epoch during training.\n",
    "    \"\"\"\n",
    "    def __init__(self, iterations=100, learning_rate=0.01):\n",
    "        \"\"\"\n",
    "        Initializes the Perceptron classifier hyperparameters.\n",
    "\n",
    "        Args:\n",
    "            iterations (int): Maximum number of training iterations (epochs).\n",
    "            learning_rate (float): The learning rate (eta).\n",
    "        \"\"\"\n",
    "        # Initialize weights later in fit() once data dimension is known\n",
    "        self.weights = None\n",
    "        self.iterations = iterations\n",
    "        self.learning_rate = learning_rate\n",
    "        self.errors_ = [] # To store number of misclassifications per epoch\n",
    "\n",
    "    def _initialize_weights(self, num_features):\n",
    "         \"\"\"Initializes weights to zeros based on number of features.\"\"\"\n",
    "         self.weights = np.zeros(num_features + 1) # +1 for bias\n",
    "\n",
    "    def predict(self, feature_set):\n",
    "        if self.weights is None:\n",
    "            raise RuntimeError(\"Perceptron must be trained before prediction.\")\n",
    "\n",
    "        features = np.asarray(feature_set)\n",
    "        # Calculate activation: w0 + w1*x1 + w2*x2 + ...\n",
    "        activation = self.weights[0] + np.dot(features, self.weights[1:])\n",
    "        # Return +1 if activation >= 0, else -1 (step function)\n",
    "        return 1 if activation >= 0 else -1\n",
    "\n",
    "    def fit(self, X_train, y_train):\n",
    "        \"\"\"\n",
    "        Trains the Perceptron model on the provided training data.\n",
    "\n",
    "        Args:\n",
    "            X_train (np.ndarray): Training features (samples x features).\n",
    "            y_train (np.ndarray): Training labels (samples x 1).\n",
    "        \"\"\"\n",
    "        n_samples, n_features = X_train.shape\n",
    "\n",
    "        # Initialize weights based on training data dimensions\n",
    "        self._initialize_weights(n_features)\n",
    "\n",
    "        # Verify labels are -1 and 1\n",
    "        unique_labels = np.unique(y_train)\n",
    "        if not (len(unique_labels) == 2 and np.all(np.isin(unique_labels, [-1, 1]))):\n",
    "             raise ValueError(\"Training labels must be exactly -1 and 1.\")\n",
    "\n",
    "        # Combine features and labels for easier iteration during training\n",
    "        training_data = np.hstack((X_train, y_train.reshape(-1, 1)))\n",
    "\n",
    "        self.errors_ = [] # Reset errors history\n",
    "        for epoch in range(self.iterations):\n",
    "            errors_in_epoch = 0\n",
    "            # Shuffle data each epoch to avoid cycles\n",
    "            np.random.shuffle(training_data)\n",
    "\n",
    "            for sample in training_data:\n",
    "                features = sample[:-1]\n",
    "                target = sample[-1]\n",
    "                prediction = self.predict(features) # Use internal predict\n",
    "\n",
    "                # If prediction is wrong, update weights\n",
    "                if prediction != target:\n",
    "                    # Standard Perceptron update rule: w = w + learning_rate * target * x\n",
    "                    update = self.learning_rate * target\n",
    "                    self.weights[1:] += update * features # Update feature weights (w1, w2, ...)\n",
    "                    self.weights[0] += update             # Update bias weight (w0)\n",
    "                    errors_in_epoch += 1\n",
    "\n",
    "            self.errors_.append(errors_in_epoch)\n",
    "            # Optional: Stopping condition\n",
    "            # if errors_in_epoch == 0:\n",
    "            #     print(f\"Converged after {epoch+1} epochs.\")\n",
    "            #     break\n",
    "\n",
    "\n",
    "    def score(self, X_test, y_test):\n",
    "        \"\"\"Calculates accuracy on the test set.\"\"\"\n",
    "        y_pred = np.array([self.predict(xi) for xi in X_test])\n",
    "        return accuracy_score(y_test, y_pred)\n",
    "\n",
    "    def plot_decision_boundary(self, X, y):\n",
    "        \"\"\"\n",
    "        Plots the data points and the decision boundary learned by the Perceptron.\n",
    "        Assumes the data has exactly 2 features.\n",
    "\n",
    "        Args:\n",
    "            X (np.ndarray): Features (samples x features).\n",
    "            y (np.ndarray): Labels (samples x 1).\n",
    "        \"\"\"\n",
    "        if self.weights is None:\n",
    "             raise RuntimeError(\"Perceptron must be trained before plotting.\")\n",
    "        if X.shape[1] != 2:\n",
    "            print(\"Warning: Plotting decision boundary only implemented for 2 features.\")\n",
    "            return\n",
    "\n",
    "        w0, w1, w2 = self.weights  # Bias, weight_feature1, weight_feature2\n",
    "\n",
    "        plt.figure(figsize=(8, 6))\n",
    "        plt.scatter(X[y == 1][:, 0], X[y == 1][:, 1],\n",
    "                    c='blue', marker='o', label='Class 1', alpha=0.7, edgecolor='k')\n",
    "        plt.scatter(X[y == -1][:, 0], X[y == -1][:, 1],\n",
    "                    c='red', marker='s', label='Class -1', alpha=0.7, edgecolor='k')\n",
    "\n",
    "        x_min, x_max = X[:, 0].min() - 1, X[:, 0].max() + 1\n",
    "        y_min, y_max = X[:, 1].min() - 1, X[:, 1].max() + 1\n",
    "\n",
    "        if abs(w2) < 1e-5:\n",
    "            if abs(w1) < 1e-5:\n",
    "                 print(\"Warning: Both w1 and w2 are close to zero. Cannot plot boundary.\")\n",
    "            else:\n",
    "                boundary_x = -w0 / w1\n",
    "                if x_min <= boundary_x <= x_max:\n",
    "                    plt.axvline(x=boundary_x, color='k', linestyle='-', label='Decision Boundary')\n",
    "        else:\n",
    "            x_boundary = np.array([x_min, x_max])\n",
    "            y_boundary = (-w0 - w1 * x_boundary) / w2\n",
    "            plt.plot(x_boundary, y_boundary, 'k-', label='Decision Boundary')\n",
    "\n",
    "        plt.xlabel('Feature 1')\n",
    "        plt.ylabel('Feature 2')\n",
    "        plt.title('Perceptron Decision Boundary')\n",
    "        plt.xlim(x_min, x_max)\n",
    "        plt.ylim(y_min, y_max)\n",
    "        plt.legend()\n",
    "        plt.grid(True, alpha=0.3)\n",
    "        plt.show()\n",
    "        \n",
    "    def score(self, feature_set):\n",
    "        \"\"\"\n",
    "        Calculates the raw activation score for a single feature set.\n",
    "        This is the value before applying the sign function for prediction.\n",
    "\n",
    "        Args:\n",
    "            feature_set (np.ndarray or list): A single sample's features.\n",
    "\n",
    "        Returns:\n",
    "            float: The raw activation score (w0 + w . x).\n",
    "        \"\"\"\n",
    "        if self.weights is None:\n",
    "            raise RuntimeError(\"Perceptron must be trained before scoring.\")\n",
    "\n",
    "        # Ensure feature_set is a numpy array\n",
    "        features = np.asarray(feature_set)\n",
    "\n",
    "        # Calculate activation: w0 + w1*x1 + w2*x2 + ...\n",
    "        # Use self.weights[1:] for feature weights, features for input values\n",
    "        activation = self.weights[0] + np.dot(features, self.weights[1:])\n",
    "\n",
    "        # Return the raw score directly\n",
    "        return activation\n",
    "\n"
   ]
  },
  {
   "cell_type": "markdown",
   "id": "395e1e42-e58d-49c5-a7ce-bdbb9f8e3d50",
   "metadata": {},
   "source": [
    "* Now let's do a train-test split of the data with a test_size = 0.3.\n",
    "* Since we are training 5 perceptrons, we should have have 5 class label sets. For instance, in the label set for category A, the label value will be `+1` if it's type A and otherwise `-1`.\n",
    "* Setting label sets gets **4 pt**."
   ]
  },
  {
   "cell_type": "code",
   "execution_count": 9,
   "id": "e59a1422-8984-49b8-889e-e34c6172e8f6",
   "metadata": {},
   "outputs": [
    {
     "name": "stdout",
     "output_type": "stream",
     "text": [
      "  Created OvR labels for class '0'.\n",
      "  Created OvR labels for class '1'.\n",
      "  Created OvR labels for class '2'.\n",
      "  Created OvR labels for class '3'.\n"
     ]
    }
   ],
   "source": [
    "X = df.drop(['custcat'], axis=1)\n",
    "y = df['custcat']\n",
    "X_np = X.values\n",
    "y_np = y.values\n",
    "X_train, X_test, y_train_orig, y_test_orig = train_test_split(\n",
    "    X_np,\n",
    "    y_np,             # Use original numerical labels (0-4)\n",
    "    test_size=0.30,\n",
    "    random_state=42,  # For reproducibility\n",
    "    stratify=y_np     # Stratify should work with integer classes 0-4\n",
    ")\n",
    "\n",
    "y_train_ovr = {}\n",
    "y_test_ovr = {}\n",
    "unique_classes = np.unique(y_np)\n",
    "\n",
    "for target_class in sorted(unique_classes): # Sort classes for consistent order\n",
    "    # Create training labels for the current class\n",
    "    y_train_ovr[target_class] = np.where(y_train_orig == target_class, 1, -1)\n",
    "\n",
    "    # Create testing labels for the current class\n",
    "    y_test_ovr[target_class] = np.where(y_test_orig == target_class, 1, -1)\n",
    "\n",
    "    print(f\"  Created OvR labels for class '{target_class}'.\")"
   ]
  },
  {
   "cell_type": "markdown",
   "id": "5245187a-3ed6-4cc4-a844-7fd0493707c9",
   "metadata": {},
   "source": [
    "* Use training set and the 5 training label sets to train your 5 perceptrons. Report the accuracy of those five training.\n",
    "* Efficiently train the five perceptrons using nest loop gets **5 pt**.\n"
   ]
  },
  {
   "cell_type": "code",
   "execution_count": 10,
   "id": "be107995-7f86-48d8-b24a-d3f3ed8b9e62",
   "metadata": {},
   "outputs": [
    {
     "name": "stdout",
     "output_type": "stream",
     "text": [
      "Starting training for 4 One-vs-Rest Perceptrons...\n",
      "\n",
      "--- Training Perceptron for class: 0 (vs Rest) ---\n",
      "Fitting model for class 0...\n",
      "Model for class 0 trained.\n",
      "Evaluating training accuracy for class 0 model...\n",
      "--> Training Accuracy for class 0 Perceptron: 0.6400 (64.00%)\n",
      "\n",
      "--- Training Perceptron for class: 1 (vs Rest) ---\n",
      "Fitting model for class 1...\n",
      "Model for class 1 trained.\n",
      "Evaluating training accuracy for class 1 model...\n",
      "--> Training Accuracy for class 1 Perceptron: 0.7429 (74.29%)\n",
      "\n",
      "--- Training Perceptron for class: 2 (vs Rest) ---\n",
      "Fitting model for class 2...\n",
      "Model for class 2 trained.\n",
      "Evaluating training accuracy for class 2 model...\n",
      "--> Training Accuracy for class 2 Perceptron: 0.7186 (71.86%)\n",
      "\n",
      "--- Training Perceptron for class: 3 (vs Rest) ---\n",
      "Fitting model for class 3...\n",
      "Model for class 3 trained.\n",
      "Evaluating training accuracy for class 3 model...\n",
      "--> Training Accuracy for class 3 Perceptron: 0.7700 (77.00%)\n",
      "\n",
      "--- Training Complete ---\n",
      "Total training time: 1.54 seconds\n",
      "\n",
      "Summary of Training Accuracies:\n",
      "  Class 0 vs Rest: 0.6400 (64.00%)\n",
      "  Class 1 vs Rest: 0.7429 (74.29%)\n",
      "  Class 2 vs Rest: 0.7186 (71.86%)\n",
      "  Class 3 vs Rest: 0.7700 (77.00%)\n"
     ]
    }
   ],
   "source": [
    "from sklearn.metrics import accuracy_score\n",
    "import numpy as np\n",
    "import time # Optional: to time the training\n",
    "\n",
    "\n",
    "# Dictionary to store the trained perceptron models\n",
    "trained_perceptrons = {}\n",
    "# Dictionary to store the training accuracy for each model\n",
    "training_accuracies = {}\n",
    "\n",
    "print(f\"Starting training for {len(unique_classes)} One-vs-Rest Perceptrons...\")\n",
    "start_time = time.time() # Optional timer\n",
    "\n",
    "# Loop through each class to train a specific Perceptron\n",
    "for target_class in unique_classes:\n",
    "    print(f\"\\n--- Training Perceptron for class: {target_class} (vs Rest) ---\")\n",
    "\n",
    "    # 1. Instantiate a new Perceptron for this class\n",
    "    #    (You can adjust hyperparameters if needed)\n",
    "    ppn = Perceptron(iterations=100, learning_rate=0.01)\n",
    "\n",
    "    # 2. Get the correct +1/-1 training labels for this class\n",
    "    y_train_current = y_train_ovr[target_class]\n",
    "\n",
    "    # 3. Train the Perceptron\n",
    "    print(f\"Fitting model for class {target_class}...\")\n",
    "    ppn.fit(X_train, y_train_current)\n",
    "\n",
    "    # 4. Store the trained model\n",
    "    trained_perceptrons[target_class] = ppn\n",
    "    print(f\"Model for class {target_class} trained.\")\n",
    "\n",
    "    # 5. Evaluate accuracy on the TRAINING data\n",
    "    print(f\"Evaluating training accuracy for class {target_class} model...\")\n",
    "    y_train_pred = [ppn.predict(xi) for xi in X_train]\n",
    "    accuracy = accuracy_score(y_train_current, y_train_pred)\n",
    "    training_accuracies[target_class] = accuracy\n",
    "\n",
    "    print(f\"--> Training Accuracy for class {target_class} Perceptron: {accuracy:.4f} ({accuracy * 100:.2f}%)\")\n",
    "\n",
    "# End of loop\n",
    "end_time = time.time() # Optional timer\n",
    "print(f\"\\n--- Training Complete ---\")\n",
    "print(f\"Total training time: {end_time - start_time:.2f} seconds\") # Optional timer\n",
    "\n",
    "print(\"\\nSummary of Training Accuracies:\")\n",
    "for target_class, acc in training_accuracies.items():\n",
    "    print(f\"  Class {target_class} vs Rest: {acc:.4f} ({acc * 100:.2f}%)\")\n",
    "\n",
    "# You now have a dictionary 'trained_perceptrons' containing one trained model for each class.\n",
    "# You also have 'training_accuracies' storing the accuracy of each model on its specific OvR training task."
   ]
  },
  {
   "cell_type": "markdown",
   "id": "3e550cc5-fbc2-42a2-8713-881783f2c7f9",
   "metadata": {},
   "source": [
    "* Use the test vector to examine the accuracy.\n",
    "* For each feature set, there should be 5 output scores, each from a perceptron. The predicted label should be the label that corresponds to the highest score.\n",
    "* Report your accuracy. (**3 pt**)"
   ]
  },
  {
   "cell_type": "code",
   "execution_count": 11,
   "id": "1e549131-9459-437b-b627-bc99e0fa93cf",
   "metadata": {},
   "outputs": [
    {
     "name": "stdout",
     "output_type": "stream",
     "text": [
      "Calculating scores from each Perceptron for all test samples...\n",
      "\n",
      "Example predicted classes (first 20): [0 1 0 0 0 1 0 0 0 0 1 0 0 0 1 0 0 0 0 0]\n",
      "Example true classes      (first 20): [2 1 2 2 2 3 0 1 2 2 1 2 0 0 1 3 3 0 1 3]\n",
      "\n",
      "--- Evaluation Complete ---\n",
      "Final Accuracy of the OvR Perceptron model on the Test Set: 0.3500 (35.00%)\n"
     ]
    }
   ],
   "source": [
    "num_test_samples = X_test.shape[0]\n",
    "num_classes = len(unique_classes)\n",
    "unique_classes_array = np.array(unique_classes) # Use numpy array for potential indexing\n",
    "\n",
    "# 1. Create a matrix to store scores from each classifier for each test sample\n",
    "#    Rows = samples, Columns = scores from classifier for class 0, 1, 2, 3, 4\n",
    "all_scores = np.zeros((num_test_samples, num_classes))\n",
    "\n",
    "# 2. Populate the score matrix\n",
    "print(\"Calculating scores from each Perceptron for all test samples...\")\n",
    "for idx, target_class in enumerate(unique_classes_array):\n",
    "    # Get the perceptron trained for this class (e.g., class 0)\n",
    "    ppn = trained_perceptrons[target_class]\n",
    "\n",
    "    # Calculate scores for ALL test samples using this perceptron's score method\n",
    "    # This loop runs num_classes times (e.g., 5 times)\n",
    "    scores_for_class = np.array([ppn.score(xi) for xi in X_test])\n",
    "\n",
    "    # Store these scores in the column corresponding to this class's index\n",
    "    all_scores[:, idx] = scores_for_class\n",
    "    # print(f\"  Scores calculated using model for class {target_class}.\") # Optional print\n",
    "\n",
    "# 3. Find the class with the highest score for each sample\n",
    "#    np.argmax returns the *index* of the maximum value along axis=1 (each row)\n",
    "pred_indices = np.argmax(all_scores, axis=1)\n",
    "# Example: if for row 0, scores are [-2.1, 0.5, 3.1, -1.0, 2.5], argmax returns 2\n",
    "\n",
    "# 4. Map the indices back to the original class labels\n",
    "#    Use the sorted unique_classes_array for mapping index -> class label\n",
    "y_pred_final = unique_classes_array[pred_indices]\n",
    "# Example: if pred_indices[0] is 2, y_pred_final[0] becomes unique_classes_array[2] (which is likely 2)\n",
    "\n",
    "print(f\"\\nExample predicted classes (first 20): {y_pred_final[:20]}\")\n",
    "print(f\"Example true classes      (first 20): {y_test_orig[:20]}\")\n",
    "\n",
    "# 5. Calculate the overall accuracy on the test set\n",
    "test_accuracy = accuracy_score(y_test_orig, y_pred_final)\n",
    "\n",
    "print(\"\\n--- Evaluation Complete ---\")\n",
    "print(f\"Final Accuracy of the OvR Perceptron model on the Test Set: {test_accuracy:.4f} ({test_accuracy * 100:.2f}%)\")\n"
   ]
  },
  {
   "cell_type": "markdown",
   "id": "fd31084b-0308-4fd0-b912-bf42f13ee674",
   "metadata": {},
   "source": [
    "How good is your multiple-label perceptron classification?"
   ]
  },
  {
   "cell_type": "markdown",
   "id": "c598a593-aac1-48b7-b634-f6c046f256f3",
   "metadata": {},
   "source": [
    "<font size=6 color=\"#009600\">&#9998;</font> worse than random(25%)"
   ]
  },
  {
   "cell_type": "markdown",
   "id": "c08b1bce-e2ce-4bd4-ae8e-9aca6d76a163",
   "metadata": {},
   "source": [
    "\n",
    "### &#128721; STOP (1 Point)\n",
    "**Pause, save and commit your changes to your Git repository!**\n",
    "\n",
    "Take a moment to save your notebook, commit the changes to your Git repository with a meaningful commit message.\n",
    "\n",
    "---\n",
    "## Part 3 SVM classifiers (19 points)\n",
    "\n",
    "### 3.1 SVM \n",
    "\n",
    "Let's re-use the customer category data. There are five caterogies with multiple feature variables.\n",
    "\n",
    "* Use sklearn library to build a SVM classifier. Since we do not know what the best parametes are, perform a GridSearch for best parameters.\n",
    "* NOTE: Because the dataset contains a large number of points, it's expected to have a long computer running time for GridSearch. Thus, let's use only the first 200 data points for GridSearch. You can start the grid search parameter like the image below. However, **NOTE** that if the kernal used cannot find a hyperplane to classify data points, the GridSearch function will stall. You need to manually remove that kernal from the parameter set and re-run GridSearch.\n",
    "  \n",
    "<img src=\"https://i.ibb.co/JWrp6c4q/Grid-Search-Param.png\" width=\"650\">\n",
    "\n",
    "\n",
    "* As in the previous section, make a 70-30 train-test split and train your SVM classifier.\n",
    "* Complete GridSearch to extract best parameters gets **5 pt**."
   ]
  },
  {
   "cell_type": "code",
   "execution_count": 1,
   "id": "eb83c8b3-cc1b-4fa6-a2f7-f627339586d8",
   "metadata": {},
   "outputs": [
    {
     "name": "stdout",
     "output_type": "stream",
     "text": [
      "Starting simplified SVM GridSearch setup...\n",
      "Using subset of data with shape: (200, 12)\n",
      "Split into 140 training and 60 test samples.\n",
      "\n",
      "Using simplified parameter grid:\n",
      "{'C': [0.1, 1.0, 10.0], 'gamma': [0.001, 0.1, 1], 'kernel': ['linear', 'rbf']}\n",
      "\n",
      "Setting up simplified GridSearchCV (cv=3, n_jobs=1)...\n",
      "Running simplified GridSearchCV...\n",
      "Fitting 3 folds for each of 18 candidates, totalling 54 fits\n",
      "Simplified GridSearchCV finished.\n",
      "\n",
      "--- Simplified GridSearchCV Results ---\n",
      "Best parameters found:\n",
      "{'C': 0.1, 'gamma': 0.001, 'kernel': 'linear'}\n",
      "\n",
      "Best cross-validation accuracy score:\n",
      "0.4002\n"
     ]
    }
   ],
   "source": [
    "import pandas as pd\n",
    "from sklearn.model_selection import train_test_split, GridSearchCV\n",
    "from sklearn.svm import SVC\n",
    "\n",
    "df = pd.read_csv('Telecust1.csv')\n",
    "df['custcat'] = df['custcat'].map({'A': 0,'B': 1,'C': 2,'D': 3,'E': 4})\n",
    "\n",
    "\n",
    "df_subset = df.head(200)\n",
    "\n",
    "X_subset = df_subset.drop(['custcat'], axis=1)\n",
    "y_subset = df_subset['custcat']\n",
    "\n",
    "X_train, X_test, y_train, y_test = train_test_split(\n",
    "    X_subset,\n",
    "    y_subset,\n",
    "    test_size=0.30,\n",
    "    random_state=42,\n",
    "    stratify=y_subset\n",
    ")\n",
    "\n",
    "param_grid_simple = {\n",
    "    'C': [0.1, 1.0, 10.0],        # Reduced C values (3 options)\n",
    "    'gamma': [0.001, 0.1, 1],   # Reduced gamma values (3 options)\n",
    "    'kernel': ['linear', 'rbf'] # Reduced kernels (2 options - removed sigmoid)\n",
    "    # Total combinations = 3 * 3 * 2 = 18 (much less than 60)\n",
    "}\n",
    "\n",
    "\n",
    "svc_estimator = SVC(class_weight='balanced')\n",
    "\n",
    "\n",
    "clf_simple = GridSearchCV(\n",
    "    estimator=svc_estimator,\n",
    "    param_grid=param_grid_simple,\n",
    "    cv=3,           # Reduced CV folds\n",
    "    n_jobs=1,       # Run sequentially (no parallelization)\n",
    "    verbose=1       # Set verbose=1 to see some progress\n",
    ")\n",
    "\n",
    "try:\n",
    "    clf_simple.fit(X_train, y_train)\n",
    "    print(\"Simplified GridSearchCV finished.\")\n",
    "\n",
    "    # 9. Extract and print the best parameters and score\n",
    "    print(\"\\n--- Simplified GridSearchCV Results ---\")\n",
    "    print(\"Best parameters found:\")\n",
    "    print(clf_simple.best_params_)\n",
    "    print(\"\\nBest cross-validation accuracy score:\")\n",
    "    print(f\"{clf_simple.best_score_:.4f}\")\n",
    "\n",
    "except Exception as e:\n",
    "    print(f\"\\nAn error occurred during GridSearchCV: {e}\")\n",
    "    print(\"The server might still be running out of resources.\")\n",
    "    print(\"Consider reducing the parameter grid or cv folds further,\")\n",
    "    print(\"or contacting your JupyterHub administrator.\")"
   ]
  },
  {
   "cell_type": "markdown",
   "id": "af730354-6eee-40f2-9a19-a20c8be0f3db",
   "metadata": {},
   "source": [
    "* Examine the accuracy of this SVC and report the accuracy. Draw a confusion matrix. **2 pt**"
   ]
  },
  {
   "cell_type": "code",
   "execution_count": 2,
   "id": "527b7f0b-97b1-474f-b0b0-09574d54a6f9",
   "metadata": {},
   "outputs": [
    {
     "name": "stdout",
     "output_type": "stream",
     "text": [
      "Evaluating the best SVM model found by GridSearchCV on the test set...\n",
      "\n",
      "Best SVM Estimator retrieved:\n",
      "SVC(C=0.1, class_weight='balanced', gamma=0.001, kernel='linear')\n",
      "\n",
      "Making predictions on the test set...\n",
      "\n",
      "--- Accuracy ---\n",
      "Accuracy of the best SVM on the test set: 0.3333 (33.33%)\n",
      "\n",
      "--- Confusion Matrix ---\n"
     ]
    },
    {
     "data": {
      "image/png": "[encoded data removed]",
      "text/plain": [
       "<Figure size 600x600 with 2 Axes>"
      ]
     },
     "metadata": {},
     "output_type": "display_data"
    }
   ],
   "source": [
    "from sklearn.metrics import accuracy_score, confusion_matrix, ConfusionMatrixDisplay\n",
    "import matplotlib.pyplot as plt\n",
    "import numpy as np\n",
    "\n",
    "# Ensure the previous cell with GridSearchCV ran successfully and clf_simple exists\n",
    "\n",
    "print(\"Evaluating the best SVM model found by GridSearchCV on the test set...\")\n",
    "\n",
    "# 1. Get the best estimator found by GridSearchCV\n",
    "try:\n",
    "    best_svm = clf_simple.best_estimator_\n",
    "    print(\"\\nBest SVM Estimator retrieved:\")\n",
    "    print(best_svm)\n",
    "\n",
    "    # 2. Make predictions on the test set\n",
    "    print(\"\\nMaking predictions on the test set...\")\n",
    "    y_pred = best_svm.predict(X_test)\n",
    "\n",
    "    # 3. Calculate and report the accuracy\n",
    "    accuracy = accuracy_score(y_test, y_pred)\n",
    "    print(\"\\n--- Accuracy ---\")\n",
    "    print(f\"Accuracy of the best SVM on the test set: {accuracy:.4f} ({accuracy * 100:.2f}%)\")\n",
    "\n",
    "    # 4. Calculate and display the confusion matrix\n",
    "    print(\"\\n--- Confusion Matrix ---\")\n",
    "    cm = confusion_matrix(y_test, y_pred)\n",
    "\n",
    "    # Use ConfusionMatrixDisplay for a nice plot\n",
    "    # Ensure the labels match the classes the SVM was trained on (should be 0, 1, 2, 3, 4)\n",
    "    try:\n",
    "        display_labels = best_svm.classes_\n",
    "    except AttributeError:\n",
    "        # Fallback if .classes_ isn't available for some reason\n",
    "        display_labels = sorted(np.unique(y_test))\n",
    "\n",
    "    disp = ConfusionMatrixDisplay(confusion_matrix=cm, display_labels=display_labels)\n",
    "\n",
    "    # Plot the confusion matrix\n",
    "    fig, ax = plt.subplots(figsize=(6, 6)) # Adjust size if needed\n",
    "    disp.plot(cmap=plt.cm.Blues, ax=ax)\n",
    "    plt.title(\"Confusion Matrix for Best SVM on Test Set\")\n",
    "    plt.xticks(rotation=45, ha='right')\n",
    "    plt.tight_layout()\n",
    "    plt.show()\n",
    "\n",
    "except NameError:\n",
    "    print(\"\\nERROR: 'clf_simple' object not found.\")\n",
    "    print(\"Please ensure the previous cell containing GridSearchCV ran successfully.\")\n",
    "except Exception as e:\n",
    "    print(f\"\\nAn error occurred during evaluation: {e}\")"
   ]
  },
  {
   "cell_type": "markdown",
   "id": "baf396ba-1d88-4d14-8771-210dc41fcbcf",
   "metadata": {},
   "source": [
    "Does SVM classifier work much better than your percetron?"
   ]
  },
  {
   "cell_type": "markdown",
   "id": "81488c96-0326-408f-aed9-d956ee068d65",
   "metadata": {},
   "source": [
    "<font size=6 color=\"#009600\">&#9998;</font> Yes, 40% accuracy vs 24%"
   ]
  },
  {
   "cell_type": "markdown",
   "id": "5cf5af1a-7950-4356-bc42-29c41b31c03d",
   "metadata": {},
   "source": [
    "### &#128721; STOP (1 Point)\n",
    "**Pause, save and commit your changes to your Git repository!**\n",
    "\n",
    "Take a moment to save your notebook, commit the changes to your Git repository with a meaningful commit message.\n",
    "\n",
    "---\n",
    "### 3.2 PCA \n",
    "\n",
    "Although we only have 11 feature variables in the dataset, let's examine how much principal component analysis (PCA) can accelerate the classification. We will increase the PCA components from 1 to 11. For each case, we will perform a GridSearch and use test set to examine the accuracy. \n",
    "\n",
    "* Write a code to loop over n_components = 1 through 11. **4 pt**\n",
    "* Record the accuracy of each case and plot the profile of accuracy versus n_components. In the mean time, record the computer run times and plot the profile of time versus n_components. **2 pt**\n",
    "\n",
    "\n"
   ]
  },
  {
   "cell_type": "code",
   "execution_count": null,
   "id": "6cb7c31b-cc0f-4ce7-9156-cc1207b26186",
   "metadata": {},
   "outputs": [],
   "source": [
    "# put your code here\n",
    "\n"
   ]
  },
  {
   "cell_type": "markdown",
   "id": "79f02dd4-9ad8-416f-8324-cede07489a0a",
   "metadata": {},
   "source": [
    "Please answer the following questions. \n",
    "* How is the overall accuracy of this SVM classifier?  **1 pt**\n",
    "* If the performance is not good, what do you think the cause is? **2 pt**"
   ]
  },
  {
   "cell_type": "markdown",
   "id": "bcb5f56b-173e-4013-9ccb-cd717aaf2524",
   "metadata": {},
   "source": [
    "<font size=6 color=\"#009600\">&#9998;</font> Put your answer here"
   ]
  },
  {
   "cell_type": "markdown",
   "id": "c7ccaefe-5020-42f3-8d1b-2359bcdb535d",
   "metadata": {},
   "source": [
    "* Describe the curves of time vs n_components and accuracy vs n_components. **1 pt**\n",
    "* Explain why the curves behave as they are in the figures **2 pt**"
   ]
  },
  {
   "cell_type": "markdown",
   "id": "43066ffe-1bdb-4c50-b4dd-ecec5287fc64",
   "metadata": {},
   "source": [
    "<font size=6 color=\"#009600\">&#9998;</font> Put your answer here"
   ]
  },
  {
   "cell_type": "markdown",
   "id": "2c10fcb2-8d8b-4e2f-a9fe-5b998e646114",
   "metadata": {},
   "source": [
    "### &#128721; STOP (1 Point)\n",
    "**Pause, save and commit your FINAL changes to your Git repository!**\n",
    "\n",
    "Take a moment to save your notebook, commit the changes to your Git repository with a meaningful commit message.\n",
    "\n",
    "\n",
    "\n",
    "---\n",
    "## Assignment wrap-up\n",
    "\n",
    "\n",
    "Please fill out the form that appears when you run the code below.  **You must completely fill this out in order to receive credit for the assignment!**\n",
    "\n"
   ]
  },
  {
   "cell_type": "code",
   "execution_count": null,
   "id": "8daa2c83-4226-47d8-ad62-0a15001b3261",
   "metadata": {},
   "outputs": [],
   "source": [
    "from IPython.display import HTML\n",
    "HTML(\n",
    "\"\"\"\n",
    "<iframe \n",
    "\tsrc=\"https://forms.office.com/r/mB0YjLYvAA\" \n",
    "\twidth=\"800px\" \n",
    "\theight=\"600px\" \n",
    "\tframeborder=\"0\" \n",
    "\tmarginheight=\"0\" \n",
    "\tmarginwidth=\"0\">\n",
    "\tLoading...\n",
    "</iframe>\n",
    "\"\"\"\n",
    ")"
   ]
  },
  {
   "cell_type": "markdown",
   "id": "ba1f1ca9-1cce-4437-a38d-163b31945d70",
   "metadata": {},
   "source": [
    "## Congratulations, you're done!\n",
    "\n",
    "&#169; Copyright 2025,  Department of Computational Mathematics, Science and Engineering at Michigan State University"
   ]
  },
  {
   "cell_type": "code",
   "execution_count": null,
   "id": "e08ef267-8dfb-4e1c-86b7-d4c4d42d6bde",
   "metadata": {},
   "outputs": [],
   "source": []
  }
 ],
 "metadata": {
  "kernelspec": {
   "display_name": "Python 3.11 (default)",
   "language": "python",
   "name": "python3"
  },
  "language_info": {
   "codemirror_mode": {
    "name": "ipython",
    "version": 3
   },
   "file_extension": ".py",
   "mimetype": "text/x-python",
   "name": "python",
   "nbconvert_exporter": "python",
   "pygments_lexer": "ipython3",
   "version": "3.11.11"
  }
 },
 "nbformat": 4,
 "nbformat_minor": 5
}
